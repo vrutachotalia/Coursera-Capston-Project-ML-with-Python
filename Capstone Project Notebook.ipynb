{
    "cells": [
        {
            "cell_type": "code",
            "execution_count": 1,
            "metadata": {},
            "outputs": [],
            "source": "import itertools\nimport numpy as np\nimport matplotlib.pyplot as plt\nfrom matplotlib.ticker import NullFormatter\nimport pandas as pd\nimport numpy as np\nimport matplotlib.ticker as ticker\nfrom sklearn import preprocessing\nfrom project_lib import Project"
        },
        {
            "cell_type": "code",
            "execution_count": 2,
            "metadata": {},
            "outputs": [],
            "source": "# The code was removed by Watson Studio for sharing."
        },
        {
            "cell_type": "code",
            "execution_count": 3,
            "metadata": {},
            "outputs": [
                {
                    "data": {
                        "text/html": "<div>\n<style scoped>\n    .dataframe tbody tr th:only-of-type {\n        vertical-align: middle;\n    }\n\n    .dataframe tbody tr th {\n        vertical-align: top;\n    }\n\n    .dataframe thead th {\n        text-align: right;\n    }\n</style>\n<table border=\"1\" class=\"dataframe\">\n  <thead>\n    <tr style=\"text-align: right;\">\n      <th></th>\n      <th>id</th>\n      <th>loan_amount</th>\n      <th>term</th>\n      <th>grade</th>\n      <th>home_ownership</th>\n      <th>annual_inc</th>\n      <th>issue_date</th>\n      <th>loan_status</th>\n      <th>due_date</th>\n      <th>Gender</th>\n    </tr>\n  </thead>\n  <tbody>\n    <tr>\n      <th>0</th>\n      <td>54734</td>\n      <td>25000</td>\n      <td>36 months</td>\n      <td>B</td>\n      <td>RENT</td>\n      <td>85000</td>\n      <td>8/9/2020</td>\n      <td>Fully Paid</td>\n      <td>10/11/2020</td>\n      <td>Male</td>\n    </tr>\n    <tr>\n      <th>1</th>\n      <td>55742</td>\n      <td>7000</td>\n      <td>36 months</td>\n      <td>B</td>\n      <td>RENT</td>\n      <td>65000</td>\n      <td>5/8/2020</td>\n      <td>Fully Paid</td>\n      <td>6/11/2020</td>\n      <td>Female</td>\n    </tr>\n    <tr>\n      <th>2</th>\n      <td>57245</td>\n      <td>1200</td>\n      <td>36 months</td>\n      <td>C</td>\n      <td>OWN</td>\n      <td>54000</td>\n      <td>3/10/2020</td>\n      <td>Fully Paid</td>\n      <td>3/13/2020</td>\n      <td>Female</td>\n    </tr>\n    <tr>\n      <th>3</th>\n      <td>57416</td>\n      <td>10800</td>\n      <td>36 months</td>\n      <td>C</td>\n      <td>RENT</td>\n      <td>32000</td>\n      <td>11/9/2020</td>\n      <td>Fully Paid</td>\n      <td>11/12/2020</td>\n      <td>Female</td>\n    </tr>\n    <tr>\n      <th>4</th>\n      <td>58915</td>\n      <td>7500</td>\n      <td>36 months</td>\n      <td>B</td>\n      <td>RENT</td>\n      <td>85000</td>\n      <td>4/8/2020</td>\n      <td>Fully Paid</td>\n      <td>4/11/2020</td>\n      <td>Male</td>\n    </tr>\n  </tbody>\n</table>\n</div>",
                        "text/plain": "      id  loan_amount        term grade home_ownership  annual_inc issue_date  \\\n0  54734        25000   36 months     B           RENT       85000   8/9/2020   \n1  55742         7000   36 months     B           RENT       65000   5/8/2020   \n2  57245         1200   36 months     C            OWN       54000  3/10/2020   \n3  57416        10800   36 months     C           RENT       32000  11/9/2020   \n4  58915         7500   36 months     B           RENT       85000   4/8/2020   \n\n  loan_status    due_date  Gender  \n0  Fully Paid  10/11/2020    Male  \n1  Fully Paid   6/11/2020  Female  \n2  Fully Paid   3/13/2020  Female  \n3  Fully Paid  11/12/2020  Female  \n4  Fully Paid   4/11/2020    Male  "
                    },
                    "execution_count": 3,
                    "metadata": {},
                    "output_type": "execute_result"
                }
            ],
            "source": "df_data_1.head()\n"
        },
        {
            "cell_type": "code",
            "execution_count": 4,
            "metadata": {},
            "outputs": [],
            "source": "df_sr = df_data_1"
        },
        {
            "cell_type": "code",
            "execution_count": 5,
            "metadata": {},
            "outputs": [
                {
                    "data": {
                        "text/plain": "(349, 10)"
                    },
                    "execution_count": 5,
                    "metadata": {},
                    "output_type": "execute_result"
                }
            ],
            "source": "df_sr.shape"
        },
        {
            "cell_type": "code",
            "execution_count": 6,
            "metadata": {},
            "outputs": [
                {
                    "data": {
                        "text/html": "<div>\n<style scoped>\n    .dataframe tbody tr th:only-of-type {\n        vertical-align: middle;\n    }\n\n    .dataframe tbody tr th {\n        vertical-align: top;\n    }\n\n    .dataframe thead th {\n        text-align: right;\n    }\n</style>\n<table border=\"1\" class=\"dataframe\">\n  <thead>\n    <tr style=\"text-align: right;\">\n      <th></th>\n      <th>id</th>\n      <th>loan_amount</th>\n      <th>term</th>\n      <th>grade</th>\n      <th>home_ownership</th>\n      <th>annual_inc</th>\n      <th>issue_date</th>\n      <th>loan_status</th>\n      <th>due_date</th>\n      <th>Gender</th>\n    </tr>\n  </thead>\n  <tbody>\n    <tr>\n      <th>0</th>\n      <td>54734</td>\n      <td>25000</td>\n      <td>36 months</td>\n      <td>B</td>\n      <td>RENT</td>\n      <td>85000</td>\n      <td>2020-08-09</td>\n      <td>Fully Paid</td>\n      <td>2020-10-11</td>\n      <td>Male</td>\n    </tr>\n    <tr>\n      <th>1</th>\n      <td>55742</td>\n      <td>7000</td>\n      <td>36 months</td>\n      <td>B</td>\n      <td>RENT</td>\n      <td>65000</td>\n      <td>2020-05-08</td>\n      <td>Fully Paid</td>\n      <td>2020-06-11</td>\n      <td>Female</td>\n    </tr>\n    <tr>\n      <th>2</th>\n      <td>57245</td>\n      <td>1200</td>\n      <td>36 months</td>\n      <td>C</td>\n      <td>OWN</td>\n      <td>54000</td>\n      <td>2020-03-10</td>\n      <td>Fully Paid</td>\n      <td>2020-03-13</td>\n      <td>Female</td>\n    </tr>\n    <tr>\n      <th>3</th>\n      <td>57416</td>\n      <td>10800</td>\n      <td>36 months</td>\n      <td>C</td>\n      <td>RENT</td>\n      <td>32000</td>\n      <td>2020-11-09</td>\n      <td>Fully Paid</td>\n      <td>2020-11-12</td>\n      <td>Female</td>\n    </tr>\n    <tr>\n      <th>4</th>\n      <td>58915</td>\n      <td>7500</td>\n      <td>36 months</td>\n      <td>B</td>\n      <td>RENT</td>\n      <td>85000</td>\n      <td>2020-04-08</td>\n      <td>Fully Paid</td>\n      <td>2020-04-11</td>\n      <td>Male</td>\n    </tr>\n  </tbody>\n</table>\n</div>",
                        "text/plain": "      id  loan_amount        term grade home_ownership  annual_inc issue_date  \\\n0  54734        25000   36 months     B           RENT       85000 2020-08-09   \n1  55742         7000   36 months     B           RENT       65000 2020-05-08   \n2  57245         1200   36 months     C            OWN       54000 2020-03-10   \n3  57416        10800   36 months     C           RENT       32000 2020-11-09   \n4  58915         7500   36 months     B           RENT       85000 2020-04-08   \n\n  loan_status   due_date  Gender  \n0  Fully Paid 2020-10-11    Male  \n1  Fully Paid 2020-06-11  Female  \n2  Fully Paid 2020-03-13  Female  \n3  Fully Paid 2020-11-12  Female  \n4  Fully Paid 2020-04-11    Male  "
                    },
                    "execution_count": 6,
                    "metadata": {},
                    "output_type": "execute_result"
                }
            ],
            "source": "df_sr['issue_date'] = pd.to_datetime(df_sr['issue_date'])\ndf_sr['due_date'] = pd.to_datetime(df_sr['due_date'])\ndf_sr.head()"
        },
        {
            "cell_type": "code",
            "execution_count": 7,
            "metadata": {},
            "outputs": [
                {
                    "data": {
                        "text/plain": "Fully Paid     288\nCharged Off     61\nName: loan_status, dtype: int64"
                    },
                    "execution_count": 7,
                    "metadata": {},
                    "output_type": "execute_result"
                }
            ],
            "source": "df_sr['loan_status'].value_counts()"
        },
        {
            "cell_type": "code",
            "execution_count": 8,
            "metadata": {},
            "outputs": [
                {
                    "data": {
                        "image/png": "[encoded data removed]",
                        "text/plain": "<Figure size 432x216 with 2 Axes>"
                    },
                    "metadata": {
                        "needs_background": "light"
                    },
                    "output_type": "display_data"
                }
            ],
            "source": "import seaborn as sns\n\nbins = np.linspace(df_sr.loan_amount.min(), df_sr.loan_amount.max(), 10)\ng = sns.FacetGrid(df_sr, col=\"Gender\", hue=\"loan_status\", palette=\"Set1\", col_wrap=2)\ng.map(plt.hist, 'loan_amount', bins=bins, ec=\"k\")\n\ng.axes[-1].legend()\nplt.show()"
        },
        {
            "cell_type": "code",
            "execution_count": 9,
            "metadata": {},
            "outputs": [
                {
                    "data": {
                        "image/png": "[encoded data removed]",
                        "text/plain": "<Figure size 432x216 with 2 Axes>"
                    },
                    "metadata": {
                        "needs_background": "light"
                    },
                    "output_type": "display_data"
                }
            ],
            "source": "df_sr['dayofweek'] = df_sr['issue_date'].dt.dayofweek\nbins = np.linspace(df_sr.dayofweek.min(), df_sr.dayofweek.max(), 10)\ng = sns.FacetGrid(df_sr, col=\"Gender\", hue=\"loan_status\", palette=\"Set1\", col_wrap=2)\ng.map(plt.hist, 'dayofweek', bins=bins, ec=\"k\")\ng.axes[-1].legend()\nplt.show()"
        },
        {
            "cell_type": "code",
            "execution_count": 10,
            "metadata": {},
            "outputs": [
                {
                    "data": {
                        "text/plain": "Gender  loan_status\nFemale  Fully Paid     0.852761\n        Charged Off    0.147239\nMale    Fully Paid     0.801075\n        Charged Off    0.198925\nName: loan_status, dtype: float64"
                    },
                    "execution_count": 10,
                    "metadata": {},
                    "output_type": "execute_result"
                }
            ],
            "source": "df_sr.groupby(['Gender'])['loan_status'].value_counts(normalize=True)"
        },
        {
            "cell_type": "code",
            "execution_count": 11,
            "metadata": {},
            "outputs": [
                {
                    "data": {
                        "text/html": "<div>\n<style scoped>\n    .dataframe tbody tr th:only-of-type {\n        vertical-align: middle;\n    }\n\n    .dataframe tbody tr th {\n        vertical-align: top;\n    }\n\n    .dataframe thead th {\n        text-align: right;\n    }\n</style>\n<table border=\"1\" class=\"dataframe\">\n  <thead>\n    <tr style=\"text-align: right;\">\n      <th></th>\n      <th>id</th>\n      <th>loan_amount</th>\n      <th>term</th>\n      <th>grade</th>\n      <th>home_ownership</th>\n      <th>annual_inc</th>\n      <th>issue_date</th>\n      <th>loan_status</th>\n      <th>due_date</th>\n      <th>Gender</th>\n      <th>dayofweek</th>\n    </tr>\n  </thead>\n  <tbody>\n    <tr>\n      <th>0</th>\n      <td>54734</td>\n      <td>25000</td>\n      <td>36 months</td>\n      <td>B</td>\n      <td>RENT</td>\n      <td>85000</td>\n      <td>2020-08-09</td>\n      <td>Fully Paid</td>\n      <td>2020-10-11</td>\n      <td>0</td>\n      <td>6</td>\n    </tr>\n    <tr>\n      <th>1</th>\n      <td>55742</td>\n      <td>7000</td>\n      <td>36 months</td>\n      <td>B</td>\n      <td>RENT</td>\n      <td>65000</td>\n      <td>2020-05-08</td>\n      <td>Fully Paid</td>\n      <td>2020-06-11</td>\n      <td>1</td>\n      <td>4</td>\n    </tr>\n    <tr>\n      <th>2</th>\n      <td>57245</td>\n      <td>1200</td>\n      <td>36 months</td>\n      <td>C</td>\n      <td>OWN</td>\n      <td>54000</td>\n      <td>2020-03-10</td>\n      <td>Fully Paid</td>\n      <td>2020-03-13</td>\n      <td>1</td>\n      <td>1</td>\n    </tr>\n    <tr>\n      <th>3</th>\n      <td>57416</td>\n      <td>10800</td>\n      <td>36 months</td>\n      <td>C</td>\n      <td>RENT</td>\n      <td>32000</td>\n      <td>2020-11-09</td>\n      <td>Fully Paid</td>\n      <td>2020-11-12</td>\n      <td>1</td>\n      <td>0</td>\n    </tr>\n    <tr>\n      <th>4</th>\n      <td>58915</td>\n      <td>7500</td>\n      <td>36 months</td>\n      <td>B</td>\n      <td>RENT</td>\n      <td>85000</td>\n      <td>2020-04-08</td>\n      <td>Fully Paid</td>\n      <td>2020-04-11</td>\n      <td>0</td>\n      <td>2</td>\n    </tr>\n  </tbody>\n</table>\n</div>",
                        "text/plain": "      id  loan_amount        term grade home_ownership  annual_inc issue_date  \\\n0  54734        25000   36 months     B           RENT       85000 2020-08-09   \n1  55742         7000   36 months     B           RENT       65000 2020-05-08   \n2  57245         1200   36 months     C            OWN       54000 2020-03-10   \n3  57416        10800   36 months     C           RENT       32000 2020-11-09   \n4  58915         7500   36 months     B           RENT       85000 2020-04-08   \n\n  loan_status   due_date  Gender  dayofweek  \n0  Fully Paid 2020-10-11       0          6  \n1  Fully Paid 2020-06-11       1          4  \n2  Fully Paid 2020-03-13       1          1  \n3  Fully Paid 2020-11-12       1          0  \n4  Fully Paid 2020-04-11       0          2  "
                    },
                    "execution_count": 11,
                    "metadata": {},
                    "output_type": "execute_result"
                }
            ],
            "source": "df_sr['Gender'].replace(to_replace=['Male','Female'], value=[0,1], inplace=True)\ndf_sr.head()"
        },
        {
            "cell_type": "code",
            "execution_count": 12,
            "metadata": {},
            "outputs": [
                {
                    "data": {
                        "text/plain": "home_ownership  loan_status\nMORTGAGE        Fully Paid     0.778626\n                Charged Off    0.221374\nNONE            Fully Paid     1.000000\nOWN             Fully Paid     0.857143\n                Charged Off    0.142857\nRENT            Fully Paid     0.851064\n                Charged Off    0.148936\nName: loan_status, dtype: float64"
                    },
                    "execution_count": 12,
                    "metadata": {},
                    "output_type": "execute_result"
                }
            ],
            "source": "df_sr.groupby(['home_ownership'])['loan_status'].value_counts(normalize=True)"
        },
        {
            "cell_type": "code",
            "execution_count": 13,
            "metadata": {},
            "outputs": [
                {
                    "data": {
                        "text/plain": "grade  loan_status\nA      Fully Paid     0.963855\n       Charged Off    0.036145\nB      Fully Paid     0.858696\n       Charged Off    0.141304\nC      Fully Paid     0.824176\n       Charged Off    0.175824\nD      Fully Paid     0.642857\n       Charged Off    0.357143\nE      Fully Paid     0.631579\n       Charged Off    0.368421\nF      Fully Paid     0.750000\n       Charged Off    0.250000\nName: loan_status, dtype: float64"
                    },
                    "execution_count": 13,
                    "metadata": {},
                    "output_type": "execute_result"
                }
            ],
            "source": "df_sr.groupby(['grade'])['loan_status'].value_counts(normalize=True)"
        },
        {
            "cell_type": "code",
            "execution_count": 27,
            "metadata": {},
            "outputs": [
                {
                    "data": {
                        "text/html": "<div>\n<style scoped>\n    .dataframe tbody tr th:only-of-type {\n        vertical-align: middle;\n    }\n\n    .dataframe tbody tr th {\n        vertical-align: top;\n    }\n\n    .dataframe thead th {\n        text-align: right;\n    }\n</style>\n<table border=\"1\" class=\"dataframe\">\n  <thead>\n    <tr style=\"text-align: right;\">\n      <th></th>\n      <th>loan_amount</th>\n      <th>Gender</th>\n      <th>dayofweek</th>\n      <th>A</th>\n      <th>B</th>\n      <th>C</th>\n      <th>D</th>\n      <th>E</th>\n      <th>F</th>\n    </tr>\n  </thead>\n  <tbody>\n    <tr>\n      <th>0</th>\n      <td>25000</td>\n      <td>0</td>\n      <td>6</td>\n      <td>0</td>\n      <td>1</td>\n      <td>0</td>\n      <td>0</td>\n      <td>0</td>\n      <td>0</td>\n    </tr>\n    <tr>\n      <th>1</th>\n      <td>7000</td>\n      <td>1</td>\n      <td>4</td>\n      <td>0</td>\n      <td>1</td>\n      <td>0</td>\n      <td>0</td>\n      <td>0</td>\n      <td>0</td>\n    </tr>\n    <tr>\n      <th>2</th>\n      <td>1200</td>\n      <td>1</td>\n      <td>1</td>\n      <td>0</td>\n      <td>0</td>\n      <td>1</td>\n      <td>0</td>\n      <td>0</td>\n      <td>0</td>\n    </tr>\n    <tr>\n      <th>3</th>\n      <td>10800</td>\n      <td>1</td>\n      <td>0</td>\n      <td>0</td>\n      <td>0</td>\n      <td>1</td>\n      <td>0</td>\n      <td>0</td>\n      <td>0</td>\n    </tr>\n    <tr>\n      <th>4</th>\n      <td>7500</td>\n      <td>0</td>\n      <td>2</td>\n      <td>0</td>\n      <td>1</td>\n      <td>0</td>\n      <td>0</td>\n      <td>0</td>\n      <td>0</td>\n    </tr>\n  </tbody>\n</table>\n</div>",
                        "text/plain": "   loan_amount  Gender  dayofweek  A  B  C  D  E  F\n0        25000       0          6  0  1  0  0  0  0\n1         7000       1          4  0  1  0  0  0  0\n2         1200       1          1  0  0  1  0  0  0\n3        10800       1          0  0  0  1  0  0  0\n4         7500       0          2  0  1  0  0  0  0"
                    },
                    "execution_count": 27,
                    "metadata": {},
                    "output_type": "execute_result"
                }
            ],
            "source": "Feature = df_sr[['loan_amount','Gender','dayofweek']]\nFeature = pd.concat([Feature,pd.get_dummies(df_sr['grade'])], axis=1)\nFeature.head()"
        },
        {
            "cell_type": "code",
            "execution_count": 28,
            "metadata": {},
            "outputs": [
                {
                    "data": {
                        "text/html": "<div>\n<style scoped>\n    .dataframe tbody tr th:only-of-type {\n        vertical-align: middle;\n    }\n\n    .dataframe tbody tr th {\n        vertical-align: top;\n    }\n\n    .dataframe thead th {\n        text-align: right;\n    }\n</style>\n<table border=\"1\" class=\"dataframe\">\n  <thead>\n    <tr style=\"text-align: right;\">\n      <th></th>\n      <th>loan_amount</th>\n      <th>Gender</th>\n      <th>dayofweek</th>\n      <th>A</th>\n      <th>B</th>\n      <th>C</th>\n      <th>D</th>\n      <th>E</th>\n      <th>F</th>\n    </tr>\n  </thead>\n  <tbody>\n    <tr>\n      <th>0</th>\n      <td>25000</td>\n      <td>0</td>\n      <td>6</td>\n      <td>0</td>\n      <td>1</td>\n      <td>0</td>\n      <td>0</td>\n      <td>0</td>\n      <td>0</td>\n    </tr>\n    <tr>\n      <th>1</th>\n      <td>7000</td>\n      <td>1</td>\n      <td>4</td>\n      <td>0</td>\n      <td>1</td>\n      <td>0</td>\n      <td>0</td>\n      <td>0</td>\n      <td>0</td>\n    </tr>\n    <tr>\n      <th>2</th>\n      <td>1200</td>\n      <td>1</td>\n      <td>1</td>\n      <td>0</td>\n      <td>0</td>\n      <td>1</td>\n      <td>0</td>\n      <td>0</td>\n      <td>0</td>\n    </tr>\n    <tr>\n      <th>3</th>\n      <td>10800</td>\n      <td>1</td>\n      <td>0</td>\n      <td>0</td>\n      <td>0</td>\n      <td>1</td>\n      <td>0</td>\n      <td>0</td>\n      <td>0</td>\n    </tr>\n    <tr>\n      <th>4</th>\n      <td>7500</td>\n      <td>0</td>\n      <td>2</td>\n      <td>0</td>\n      <td>1</td>\n      <td>0</td>\n      <td>0</td>\n      <td>0</td>\n      <td>0</td>\n    </tr>\n  </tbody>\n</table>\n</div>",
                        "text/plain": "   loan_amount  Gender  dayofweek  A  B  C  D  E  F\n0        25000       0          6  0  1  0  0  0  0\n1         7000       1          4  0  1  0  0  0  0\n2         1200       1          1  0  0  1  0  0  0\n3        10800       1          0  0  0  1  0  0  0\n4         7500       0          2  0  1  0  0  0  0"
                    },
                    "execution_count": 28,
                    "metadata": {},
                    "output_type": "execute_result"
                }
            ],
            "source": "X = Feature\nX[0:5]"
        },
        {
            "cell_type": "code",
            "execution_count": 29,
            "metadata": {},
            "outputs": [
                {
                    "data": {
                        "text/plain": "array(['Fully Paid', 'Fully Paid', 'Fully Paid', 'Fully Paid',\n       'Fully Paid'], dtype=object)"
                    },
                    "execution_count": 29,
                    "metadata": {},
                    "output_type": "execute_result"
                }
            ],
            "source": "y = df_sr['loan_status'].values\ny[0:5]"
        },
        {
            "cell_type": "code",
            "execution_count": 30,
            "metadata": {},
            "outputs": [
                {
                    "name": "stderr",
                    "output_type": "stream",
                    "text": "/opt/conda/envs/Python36/lib/python3.6/site-packages/sklearn/preprocessing/data.py:645: DataConversionWarning: Data with input dtype uint8, int64 were all converted to float64 by StandardScaler.\n  return self.partial_fit(X, y)\n/opt/conda/envs/Python36/lib/python3.6/site-packages/ipykernel/__main__.py:1: DataConversionWarning: Data with input dtype uint8, int64 were all converted to float64 by StandardScaler.\n  if __name__ == '__main__':\n"
                },
                {
                    "data": {
                        "text/plain": "array([[ 2.56519664, -0.93613252,  2.19988243, -0.55859652,  1.67137017,\n        -0.59389661, -0.43717992, -0.23994949, -0.15316792],\n       [-0.30151337,  1.06822483,  1.1069871 , -0.55859652,  1.67137017,\n        -0.59389661, -0.43717992, -0.23994949, -0.15316792],\n       [-1.22523104,  1.06822483, -0.53235589, -0.55859652, -0.5983115 ,\n         1.68379477, -0.43717992, -0.23994949, -0.15316792],\n       [ 0.30368097,  1.06822483, -1.07880356, -0.55859652, -0.5983115 ,\n         1.68379477, -0.43717992, -0.23994949, -0.15316792],\n       [-0.22188253, -0.93613252,  0.01409177, -0.55859652,  1.67137017,\n        -0.59389661, -0.43717992, -0.23994949, -0.15316792]])"
                    },
                    "execution_count": 30,
                    "metadata": {},
                    "output_type": "execute_result"
                }
            ],
            "source": "X= preprocessing.StandardScaler().fit(X).transform(X)\nX[0:5]"
        },
        {
            "cell_type": "markdown",
            "metadata": {},
            "source": "## KNN"
        },
        {
            "cell_type": "code",
            "execution_count": 39,
            "metadata": {},
            "outputs": [],
            "source": "from sklearn import preprocessing\nfrom sklearn.neighbors import KNeighborsClassifier\nfrom sklearn.model_selection import train_test_split\nimport sklearn.metrics as metrics"
        },
        {
            "cell_type": "code",
            "execution_count": 40,
            "metadata": {},
            "outputs": [],
            "source": "seed=50\nX_train, X_test, y_train, y_test = train_test_split(X,y, test_size=0.40, random_state=seed)"
        },
        {
            "cell_type": "code",
            "execution_count": 41,
            "metadata": {},
            "outputs": [
                {
                    "name": "stdout",
                    "output_type": "stream",
                    "text": "1 :  0.7785714285714286\n2 :  0.6357142857142857\n3 :  0.7785714285714286\n4 :  0.7571428571428571\n5 :  0.8214285714285714\n6 :  0.7857142857142857\n7 :  0.8142857142857143\n8 :  0.8\n9 :  0.8214285714285714\n10 :  0.7928571428571428\n11 :  0.8071428571428572\n12 :  0.8071428571428572\n13 :  0.8142857142857143\n14 :  0.8214285714285714\n15 :  0.8285714285714286\n16 :  0.8357142857142857\n17 :  0.8142857142857143\n18 :  0.8071428571428572\n19 :  0.8142857142857143\n20 :  0.8071428571428572\n21 :  0.85\n22 :  0.85\n23 :  0.85\n24 :  0.85\n25 :  0.85\n26 :  0.85\n27 :  0.85\n28 :  0.85\n29 :  0.85\n30 :  0.85\n31 :  0.85\n32 :  0.85\n33 :  0.85\n34 :  0.85\n35 :  0.85\n36 :  0.85\n37 :  0.85\n38 :  0.85\n39 :  0.85\n40 :  0.85\n41 :  0.85\n42 :  0.85\n43 :  0.85\n44 :  0.85\n45 :  0.85\n46 :  0.85\n47 :  0.85\n48 :  0.85\n49 :  0.85\n50 :  0.85\n51 :  0.85\n52 :  0.85\n53 :  0.85\n54 :  0.85\n55 :  0.85\n56 :  0.85\n57 :  0.85\n58 :  0.85\n59 :  0.85\n60 :  0.85\n61 :  0.85\n62 :  0.85\n63 :  0.85\n64 :  0.85\n65 :  0.85\n66 :  0.85\n67 :  0.85\n68 :  0.85\n69 :  0.85\n70 :  0.85\n71 :  0.85\n72 :  0.85\n73 :  0.85\n74 :  0.85\n75 :  0.85\n76 :  0.85\n77 :  0.85\n78 :  0.85\n79 :  0.85\n80 :  0.85\n81 :  0.85\n82 :  0.85\n83 :  0.85\n84 :  0.85\n85 :  0.85\n86 :  0.85\n87 :  0.85\n88 :  0.85\n89 :  0.85\n90 :  0.85\n91 :  0.85\n92 :  0.85\n93 :  0.85\n94 :  0.85\n95 :  0.85\n96 :  0.85\n97 :  0.85\n98 :  0.85\n99 :  0.85\n"
                }
            ],
            "source": "score=[]\nfor k in range(1,100):\n    knn=KNeighborsClassifier(n_neighbors=k,weights='uniform')\n    knn.fit(X_train,y_train)\n    predKNN=knn.predict(X_test)\n    accuracy=metrics.accuracy_score(predKNN,y_test)\n    score.append(accuracy*100)\n    print (k,': ',accuracy)"
        },
        {
            "cell_type": "code",
            "execution_count": 42,
            "metadata": {},
            "outputs": [
                {
                    "name": "stdout",
                    "output_type": "stream",
                    "text": "21  :  85.0 %\n"
                }
            ],
            "source": "print(score.index(max(score))+1,' : ',round(max(score),2),'%')"
        },
        {
            "cell_type": "code",
            "execution_count": 43,
            "metadata": {},
            "outputs": [
                {
                    "data": {
                        "text/plain": "Text(0, 0.5, 'Train Accuracy')"
                    },
                    "execution_count": 43,
                    "metadata": {},
                    "output_type": "execute_result"
                },
                {
                    "data": {
                        "image/png": "[encoded data removed]",
                        "text/plain": "<Figure size 432x288 with 1 Axes>"
                    },
                    "metadata": {
                        "needs_background": "light"
                    },
                    "output_type": "display_data"
                }
            ],
            "source": "plt.plot(range(1,100),score)\nplt.xlabel('Number of Neighbors K')\nplt.ylabel('Train Accuracy')"
        },
        {
            "cell_type": "code",
            "execution_count": 44,
            "metadata": {},
            "outputs": [
                {
                    "name": "stdout",
                    "output_type": "stream",
                    "text": "accuracy :  85.0 %\n"
                }
            ],
            "source": "knn=KNeighborsClassifier(n_neighbors=41,weights='uniform')\nknn.fit(X_train,y_train)\npredKNN=knn.predict(X_test)\naccuracy=metrics.accuracy_score(predKNN,y_test)\nprint(\"accuracy : \",round(accuracy,3)*100,'%')"
        },
        {
            "cell_type": "code",
            "execution_count": 45,
            "metadata": {},
            "outputs": [
                {
                    "name": "stdout",
                    "output_type": "stream",
                    "text": "              precision    recall  f1-score   support\n\n Charged Off       0.00      0.00      0.00        21\n  Fully Paid       0.85      1.00      0.92       119\n\n   micro avg       0.85      0.85      0.85       140\n   macro avg       0.42      0.50      0.46       140\nweighted avg       0.72      0.85      0.78       140\n\n\n\nJaccard Similarity Score :  85.0 %\n\n\nF1-SCORE :  [0.         0.91891892]\n\n\nTrain Accuracy:  80.86124401913875 %\n"
                },
                {
                    "name": "stderr",
                    "output_type": "stream",
                    "text": "/opt/conda/envs/Python36/lib/python3.6/site-packages/sklearn/metrics/classification.py:1143: UndefinedMetricWarning: Precision and F-score are ill-defined and being set to 0.0 in labels with no predicted samples.\n  'precision', 'predicted', average, warn_for)\n/opt/conda/envs/Python36/lib/python3.6/site-packages/sklearn/metrics/classification.py:1143: UndefinedMetricWarning: Precision and F-score are ill-defined and being set to 0.0 in labels with no predicted samples.\n  'precision', 'predicted', average, warn_for)\n/opt/conda/envs/Python36/lib/python3.6/site-packages/sklearn/metrics/classification.py:1143: UndefinedMetricWarning: Precision and F-score are ill-defined and being set to 0.0 in labels with no predicted samples.\n  'precision', 'predicted', average, warn_for)\n/opt/conda/envs/Python36/lib/python3.6/site-packages/sklearn/metrics/classification.py:1143: UndefinedMetricWarning: F-score is ill-defined and being set to 0.0 in labels with no predicted samples.\n  'precision', 'predicted', average, warn_for)\n"
                }
            ],
            "source": "from sklearn.metrics import classification_report,jaccard_similarity_score,log_loss,f1_score\nprint(classification_report(y_test,predKNN))\nprint('\\n')\nprint('Jaccard Similarity Score : ',round(jaccard_similarity_score(y_test,predKNN)*100,2),'%')\nprint('\\n')\nprint('F1-SCORE : ',f1_score(y_test,predKNN,average=None))\nprint('\\n')\nprint('Train Accuracy: ',metrics.accuracy_score(y_train, knn.predict(X_train))*100,'%')"
        },
        {
            "cell_type": "markdown",
            "metadata": {},
            "source": "# Decision Tree"
        },
        {
            "cell_type": "code",
            "execution_count": 49,
            "metadata": {},
            "outputs": [],
            "source": "from sklearn.tree import DecisionTreeClassifier\nfrom sklearn.model_selection import GridSearchCV\ndtree=DecisionTreeClassifier()"
        },
        {
            "cell_type": "code",
            "execution_count": 52,
            "metadata": {},
            "outputs": [
                {
                    "name": "stdout",
                    "output_type": "stream",
                    "text": "Best Score: 0.8421052631578947\nBest params: {'criterion': 'gini', 'max_depth': 3, 'max_features': 4, 'random_state': 150}\n"
                },
                {
                    "name": "stderr",
                    "output_type": "stream",
                    "text": "/opt/conda/envs/Python36/lib/python3.6/site-packages/sklearn/model_selection/_search.py:841: DeprecationWarning: The default of the `iid` parameter will change from True to False in version 0.22 and will be removed in 0.24. This will change numeric results when test-set sizes are unequal.\n  DeprecationWarning)\n"
                }
            ],
            "source": "parameter_grid = {'max_depth': [1, 2, 3, 4, 5,6,5,9,15,20],\n                  'max_features': [1, 2, 3, 4,5,6,7,8],\n                 'random_state':[0,15,20,35,50,80,100,150,180,200],\n                 'criterion':['gini','entropy'],\n                 }\n\ngrid_search = GridSearchCV(dtree, param_grid = parameter_grid,\n                          cv =10)\n\ngrid_search.fit(X_train, y_train)\n\nprint (\"Best Score: {}\".format(grid_search.best_score_))\nprint (\"Best params: {}\".format(grid_search.best_params_))"
        },
        {
            "cell_type": "code",
            "execution_count": 53,
            "metadata": {},
            "outputs": [],
            "source": "dtree=DecisionTreeClassifier(max_depth=5,criterion='entropy',max_features=2,random_state=0)"
        },
        {
            "cell_type": "code",
            "execution_count": 54,
            "metadata": {},
            "outputs": [],
            "source": "dtree.fit(X_train,y_train)\npred_Dtree=dtree.predict(X_test)"
        },
        {
            "cell_type": "code",
            "execution_count": 55,
            "metadata": {},
            "outputs": [
                {
                    "name": "stdout",
                    "output_type": "stream",
                    "text": "              precision    recall  f1-score   support\n\n Charged Off       0.37      0.33      0.35        21\n  Fully Paid       0.88      0.90      0.89       119\n\n   micro avg       0.81      0.81      0.81       140\n   macro avg       0.63      0.62      0.62       140\nweighted avg       0.81      0.81      0.81       140\n\n\n\nJaccard Similarity Score :  81.43 %\n\n\nF1-SCORE :  [0.35       0.89166667]\n\n\nTrain Accuracy:  85.16746411483254 %\n"
                }
            ],
            "source": "print(classification_report(y_test,pred_Dtree))\nprint('\\n')\nprint('Jaccard Similarity Score : ',round(jaccard_similarity_score(y_test,pred_Dtree)*100,2),'%')\nprint('\\n')\nprint('F1-SCORE : ',f1_score(y_test,pred_Dtree,average=None))\nprint('\\n')\nprint('Train Accuracy: ',metrics.accuracy_score(y_train, dtree.predict(X_train))*100,'%')"
        },
        {
            "cell_type": "markdown",
            "metadata": {},
            "source": "# Support Vector Machine"
        },
        {
            "cell_type": "code",
            "execution_count": 56,
            "metadata": {},
            "outputs": [],
            "source": "from sklearn.svm import SVC\nfrom sklearn.metrics import accuracy_score"
        },
        {
            "cell_type": "code",
            "execution_count": 57,
            "metadata": {},
            "outputs": [
                {
                    "name": "stderr",
                    "output_type": "stream",
                    "text": "/opt/conda/envs/Python36/lib/python3.6/site-packages/sklearn/svm/base.py:196: FutureWarning: The default value of gamma will change from 'auto' to 'scale' in version 0.22 to account better for unscaled features. Set gamma explicitly to 'auto' or 'scale' to avoid this warning.\n  \"avoid this warning.\", FutureWarning)\n"
                }
            ],
            "source": "svm=SVC().fit(X_train,y_train)"
        },
        {
            "cell_type": "code",
            "execution_count": 58,
            "metadata": {},
            "outputs": [],
            "source": "pred_svm=svm.predict(X_test)"
        },
        {
            "cell_type": "code",
            "execution_count": 59,
            "metadata": {},
            "outputs": [
                {
                    "name": "stdout",
                    "output_type": "stream",
                    "text": "              precision    recall  f1-score   support\n\n Charged Off       0.42      0.38      0.40        21\n  Fully Paid       0.89      0.91      0.90       119\n\n   micro avg       0.83      0.83      0.83       140\n   macro avg       0.66      0.64      0.65       140\nweighted avg       0.82      0.83      0.82       140\n\n\n\nJaccard Similarity Score :  82.86 %\n\n\nF1-SCORE :  [0.4 0.9]\n\n\nTrain Accuracy:  84.688995215311 %\n"
                }
            ],
            "source": "print(classification_report(y_test,pred_svm))\nprint('\\n')\nprint('Jaccard Similarity Score : ',round(jaccard_similarity_score(y_test,pred_svm)*100,2),'%')\nprint('\\n')\nprint('F1-SCORE : ',f1_score(y_test,pred_svm,average=None))\nprint('\\n')\nprint('Train Accuracy: ',metrics.accuracy_score(y_train, svm.predict(X_train))*100,'%')"
        },
        {
            "cell_type": "markdown",
            "metadata": {},
            "source": "# Logistic Regression"
        },
        {
            "cell_type": "code",
            "execution_count": 60,
            "metadata": {},
            "outputs": [],
            "source": "from sklearn.linear_model import LogisticRegression"
        },
        {
            "cell_type": "code",
            "execution_count": 61,
            "metadata": {},
            "outputs": [],
            "source": "lgm=LogisticRegression()"
        },
        {
            "cell_type": "code",
            "execution_count": 62,
            "metadata": {},
            "outputs": [
                {
                    "name": "stderr",
                    "output_type": "stream",
                    "text": "/opt/conda/envs/Python36/lib/python3.6/site-packages/sklearn/linear_model/logistic.py:433: FutureWarning: Default solver will be changed to 'lbfgs' in 0.22. Specify a solver to silence this warning.\n  FutureWarning)\n"
                },
                {
                    "data": {
                        "text/plain": "LogisticRegression(C=1.0, class_weight=None, dual=False, fit_intercept=True,\n          intercept_scaling=1, max_iter=100, multi_class='warn',\n          n_jobs=None, penalty='l2', random_state=None, solver='warn',\n          tol=0.0001, verbose=0, warm_start=False)"
                    },
                    "execution_count": 62,
                    "metadata": {},
                    "output_type": "execute_result"
                }
            ],
            "source": "lgm.fit(X_train,y_train)"
        },
        {
            "cell_type": "code",
            "execution_count": 63,
            "metadata": {},
            "outputs": [],
            "source": "pred_lgm=lgm.predict(X_test)"
        },
        {
            "cell_type": "code",
            "execution_count": 64,
            "metadata": {},
            "outputs": [
                {
                    "name": "stdout",
                    "output_type": "stream",
                    "text": "              precision    recall  f1-score   support\n\n Charged Off       0.11      0.05      0.07        21\n  Fully Paid       0.85      0.93      0.89       119\n\n   micro avg       0.80      0.80      0.80       140\n   macro avg       0.48      0.49      0.48       140\nweighted avg       0.74      0.80      0.76       140\n\n\n\nJaccard Similarity Score :  80.0 %\n\n\nF1-SCORE :  [0.06666667 0.888     ]\n\n\nTrain Accuracy:  81.3397129186603 %\n"
                }
            ],
            "source": "print(classification_report(y_test,pred_lgm))\nprint('\\n')\nprint('Jaccard Similarity Score : ',round(jaccard_similarity_score(y_test,pred_lgm)*100,2),'%')\nprint('\\n')\nprint('F1-SCORE : ',f1_score(y_test,pred_lgm,average=None))\nprint('\\n')\nprint('Train Accuracy: ',metrics.accuracy_score(y_train, lgm.predict(X_train))*100,'%')"
        },
        {
            "cell_type": "markdown",
            "metadata": {},
            "source": "# Model Evaluation using Test set"
        },
        {
            "cell_type": "code",
            "execution_count": 65,
            "metadata": {},
            "outputs": [],
            "source": "from sklearn.metrics import jaccard_similarity_score\nfrom sklearn.metrics import f1_score\nfrom sklearn.metrics import log_loss"
        },
        {
            "cell_type": "code",
            "execution_count": 67,
            "metadata": {},
            "outputs": [
                {
                    "data": {
                        "text/html": "<div>\n<style scoped>\n    .dataframe tbody tr th:only-of-type {\n        vertical-align: middle;\n    }\n\n    .dataframe tbody tr th {\n        vertical-align: top;\n    }\n\n    .dataframe thead th {\n        text-align: right;\n    }\n</style>\n<table border=\"1\" class=\"dataframe\">\n  <thead>\n    <tr style=\"text-align: right;\">\n      <th></th>\n      <th>id</th>\n      <th>loan_amount</th>\n      <th>term</th>\n      <th>grade</th>\n      <th>home_ownership</th>\n      <th>annual_inc</th>\n      <th>issue_date</th>\n      <th>loan_status</th>\n      <th>due_date</th>\n      <th>Gender</th>\n      <th>dayofweek</th>\n    </tr>\n  </thead>\n  <tbody>\n    <tr>\n      <th>0</th>\n      <td>54734</td>\n      <td>25000</td>\n      <td>36 months</td>\n      <td>B</td>\n      <td>RENT</td>\n      <td>85000</td>\n      <td>2020-08-09</td>\n      <td>Fully Paid</td>\n      <td>2020-10-11</td>\n      <td>0</td>\n      <td>6</td>\n    </tr>\n    <tr>\n      <th>1</th>\n      <td>55742</td>\n      <td>7000</td>\n      <td>36 months</td>\n      <td>B</td>\n      <td>RENT</td>\n      <td>65000</td>\n      <td>2020-05-08</td>\n      <td>Fully Paid</td>\n      <td>2020-06-11</td>\n      <td>1</td>\n      <td>4</td>\n    </tr>\n    <tr>\n      <th>2</th>\n      <td>57245</td>\n      <td>1200</td>\n      <td>36 months</td>\n      <td>C</td>\n      <td>OWN</td>\n      <td>54000</td>\n      <td>2020-03-10</td>\n      <td>Fully Paid</td>\n      <td>2020-03-13</td>\n      <td>1</td>\n      <td>1</td>\n    </tr>\n    <tr>\n      <th>3</th>\n      <td>57416</td>\n      <td>10800</td>\n      <td>36 months</td>\n      <td>C</td>\n      <td>RENT</td>\n      <td>32000</td>\n      <td>2020-11-09</td>\n      <td>Fully Paid</td>\n      <td>2020-11-12</td>\n      <td>1</td>\n      <td>0</td>\n    </tr>\n    <tr>\n      <th>4</th>\n      <td>58915</td>\n      <td>7500</td>\n      <td>36 months</td>\n      <td>B</td>\n      <td>RENT</td>\n      <td>85000</td>\n      <td>2020-04-08</td>\n      <td>Fully Paid</td>\n      <td>2020-04-11</td>\n      <td>0</td>\n      <td>2</td>\n    </tr>\n  </tbody>\n</table>\n</div>",
                        "text/plain": "      id  loan_amount        term grade home_ownership  annual_inc issue_date  \\\n0  54734        25000   36 months     B           RENT       85000 2020-08-09   \n1  55742         7000   36 months     B           RENT       65000 2020-05-08   \n2  57245         1200   36 months     C            OWN       54000 2020-03-10   \n3  57416        10800   36 months     C           RENT       32000 2020-11-09   \n4  58915         7500   36 months     B           RENT       85000 2020-04-08   \n\n  loan_status   due_date  Gender  dayofweek  \n0  Fully Paid 2020-10-11       0          6  \n1  Fully Paid 2020-06-11       1          4  \n2  Fully Paid 2020-03-13       1          1  \n3  Fully Paid 2020-11-12       1          0  \n4  Fully Paid 2020-04-11       0          2  "
                    },
                    "execution_count": 67,
                    "metadata": {},
                    "output_type": "execute_result"
                }
            ],
            "source": "test_df = df_data_1\ntest_df.head()"
        },
        {
            "cell_type": "code",
            "execution_count": 68,
            "metadata": {},
            "outputs": [
                {
                    "data": {
                        "text/html": "<div>\n<style scoped>\n    .dataframe tbody tr th:only-of-type {\n        vertical-align: middle;\n    }\n\n    .dataframe tbody tr th {\n        vertical-align: top;\n    }\n\n    .dataframe thead th {\n        text-align: right;\n    }\n</style>\n<table border=\"1\" class=\"dataframe\">\n  <thead>\n    <tr style=\"text-align: right;\">\n      <th></th>\n      <th>id</th>\n      <th>loan_amount</th>\n      <th>term</th>\n      <th>grade</th>\n      <th>home_ownership</th>\n      <th>annual_inc</th>\n      <th>issue_date</th>\n      <th>loan_status</th>\n      <th>due_date</th>\n      <th>Gender</th>\n      <th>dayofweek</th>\n    </tr>\n  </thead>\n  <tbody>\n    <tr>\n      <th>0</th>\n      <td>54734</td>\n      <td>25000</td>\n      <td>36 months</td>\n      <td>B</td>\n      <td>RENT</td>\n      <td>85000</td>\n      <td>2020-08-09</td>\n      <td>Fully Paid</td>\n      <td>2020-10-11</td>\n      <td>0</td>\n      <td>6</td>\n    </tr>\n    <tr>\n      <th>1</th>\n      <td>55742</td>\n      <td>7000</td>\n      <td>36 months</td>\n      <td>B</td>\n      <td>RENT</td>\n      <td>65000</td>\n      <td>2020-05-08</td>\n      <td>Fully Paid</td>\n      <td>2020-06-11</td>\n      <td>1</td>\n      <td>4</td>\n    </tr>\n    <tr>\n      <th>2</th>\n      <td>57245</td>\n      <td>1200</td>\n      <td>36 months</td>\n      <td>C</td>\n      <td>OWN</td>\n      <td>54000</td>\n      <td>2020-03-10</td>\n      <td>Fully Paid</td>\n      <td>2020-03-13</td>\n      <td>1</td>\n      <td>1</td>\n    </tr>\n    <tr>\n      <th>3</th>\n      <td>57416</td>\n      <td>10800</td>\n      <td>36 months</td>\n      <td>C</td>\n      <td>RENT</td>\n      <td>32000</td>\n      <td>2020-11-09</td>\n      <td>Fully Paid</td>\n      <td>2020-11-12</td>\n      <td>1</td>\n      <td>0</td>\n    </tr>\n    <tr>\n      <th>4</th>\n      <td>58915</td>\n      <td>7500</td>\n      <td>36 months</td>\n      <td>B</td>\n      <td>RENT</td>\n      <td>85000</td>\n      <td>2020-04-08</td>\n      <td>Fully Paid</td>\n      <td>2020-04-11</td>\n      <td>0</td>\n      <td>2</td>\n    </tr>\n  </tbody>\n</table>\n</div>",
                        "text/plain": "      id  loan_amount        term grade home_ownership  annual_inc issue_date  \\\n0  54734        25000   36 months     B           RENT       85000 2020-08-09   \n1  55742         7000   36 months     B           RENT       65000 2020-05-08   \n2  57245         1200   36 months     C            OWN       54000 2020-03-10   \n3  57416        10800   36 months     C           RENT       32000 2020-11-09   \n4  58915         7500   36 months     B           RENT       85000 2020-04-08   \n\n  loan_status   due_date  Gender  dayofweek  \n0  Fully Paid 2020-10-11       0          6  \n1  Fully Paid 2020-06-11       1          4  \n2  Fully Paid 2020-03-13       1          1  \n3  Fully Paid 2020-11-12       1          0  \n4  Fully Paid 2020-04-11       0          2  "
                    },
                    "execution_count": 68,
                    "metadata": {},
                    "output_type": "execute_result"
                }
            ],
            "source": "test_df['issue_date'] = pd.to_datetime(test_df['issue_date'])\ntest_df['due_date'] = pd.to_datetime(test_df['due_date'])\ntest_df.head()"
        },
        {
            "cell_type": "code",
            "execution_count": 69,
            "metadata": {},
            "outputs": [
                {
                    "data": {
                        "text/html": "<div>\n<style scoped>\n    .dataframe tbody tr th:only-of-type {\n        vertical-align: middle;\n    }\n\n    .dataframe tbody tr th {\n        vertical-align: top;\n    }\n\n    .dataframe thead th {\n        text-align: right;\n    }\n</style>\n<table border=\"1\" class=\"dataframe\">\n  <thead>\n    <tr style=\"text-align: right;\">\n      <th></th>\n      <th>id</th>\n      <th>loan_amount</th>\n      <th>term</th>\n      <th>grade</th>\n      <th>home_ownership</th>\n      <th>annual_inc</th>\n      <th>issue_date</th>\n      <th>loan_status</th>\n      <th>due_date</th>\n      <th>Gender</th>\n      <th>dayofweek</th>\n    </tr>\n  </thead>\n  <tbody>\n    <tr>\n      <th>0</th>\n      <td>54734</td>\n      <td>25000</td>\n      <td>36 months</td>\n      <td>B</td>\n      <td>RENT</td>\n      <td>85000</td>\n      <td>2020-08-09</td>\n      <td>Fully Paid</td>\n      <td>2020-10-11</td>\n      <td>0</td>\n      <td>6</td>\n    </tr>\n    <tr>\n      <th>1</th>\n      <td>55742</td>\n      <td>7000</td>\n      <td>36 months</td>\n      <td>B</td>\n      <td>RENT</td>\n      <td>65000</td>\n      <td>2020-05-08</td>\n      <td>Fully Paid</td>\n      <td>2020-06-11</td>\n      <td>1</td>\n      <td>4</td>\n    </tr>\n    <tr>\n      <th>2</th>\n      <td>57245</td>\n      <td>1200</td>\n      <td>36 months</td>\n      <td>C</td>\n      <td>OWN</td>\n      <td>54000</td>\n      <td>2020-03-10</td>\n      <td>Fully Paid</td>\n      <td>2020-03-13</td>\n      <td>1</td>\n      <td>1</td>\n    </tr>\n    <tr>\n      <th>3</th>\n      <td>57416</td>\n      <td>10800</td>\n      <td>36 months</td>\n      <td>C</td>\n      <td>RENT</td>\n      <td>32000</td>\n      <td>2020-11-09</td>\n      <td>Fully Paid</td>\n      <td>2020-11-12</td>\n      <td>1</td>\n      <td>0</td>\n    </tr>\n    <tr>\n      <th>4</th>\n      <td>58915</td>\n      <td>7500</td>\n      <td>36 months</td>\n      <td>B</td>\n      <td>RENT</td>\n      <td>85000</td>\n      <td>2020-04-08</td>\n      <td>Fully Paid</td>\n      <td>2020-04-11</td>\n      <td>0</td>\n      <td>2</td>\n    </tr>\n  </tbody>\n</table>\n</div>",
                        "text/plain": "      id  loan_amount        term grade home_ownership  annual_inc issue_date  \\\n0  54734        25000   36 months     B           RENT       85000 2020-08-09   \n1  55742         7000   36 months     B           RENT       65000 2020-05-08   \n2  57245         1200   36 months     C            OWN       54000 2020-03-10   \n3  57416        10800   36 months     C           RENT       32000 2020-11-09   \n4  58915         7500   36 months     B           RENT       85000 2020-04-08   \n\n  loan_status   due_date  Gender  dayofweek  \n0  Fully Paid 2020-10-11       0          6  \n1  Fully Paid 2020-06-11       1          4  \n2  Fully Paid 2020-03-13       1          1  \n3  Fully Paid 2020-11-12       1          0  \n4  Fully Paid 2020-04-11       0          2  "
                    },
                    "execution_count": 69,
                    "metadata": {},
                    "output_type": "execute_result"
                }
            ],
            "source": "test_df['dayofweek'] = test_df['issue_date'].dt.dayofweek\ntest_df.head()"
        },
        {
            "cell_type": "code",
            "execution_count": 70,
            "metadata": {},
            "outputs": [],
            "source": "test_df['weekend']=test_df['dayofweek'].apply(lambda x: 1 if (x>3) else 0)"
        },
        {
            "cell_type": "code",
            "execution_count": 71,
            "metadata": {},
            "outputs": [
                {
                    "data": {
                        "text/plain": "<matplotlib.axes._subplots.AxesSubplot at 0x7fc56427b9e8>"
                    },
                    "execution_count": 71,
                    "metadata": {},
                    "output_type": "execute_result"
                },
                {
                    "data": {
                        "image/png": "[encoded data removed]",
                        "text/plain": "<Figure size 432x288 with 2 Axes>"
                    },
                    "metadata": {
                        "needs_background": "light"
                    },
                    "output_type": "display_data"
                }
            ],
            "source": "sns.heatmap(test_df.isnull())"
        },
        {
            "cell_type": "code",
            "execution_count": 82,
            "metadata": {},
            "outputs": [
                {
                    "data": {
                        "text/html": "<div>\n<style scoped>\n    .dataframe tbody tr th:only-of-type {\n        vertical-align: middle;\n    }\n\n    .dataframe tbody tr th {\n        vertical-align: top;\n    }\n\n    .dataframe thead th {\n        text-align: right;\n    }\n</style>\n<table border=\"1\" class=\"dataframe\">\n  <thead>\n    <tr style=\"text-align: right;\">\n      <th></th>\n      <th>id</th>\n      <th>loan_amount</th>\n      <th>term</th>\n      <th>grade</th>\n      <th>home_ownership</th>\n      <th>annual_inc</th>\n      <th>issue_date</th>\n      <th>loan_status</th>\n      <th>due_date</th>\n      <th>Gender</th>\n      <th>dayofweek</th>\n      <th>weekend</th>\n    </tr>\n  </thead>\n  <tbody>\n    <tr>\n      <th>0</th>\n      <td>54734</td>\n      <td>25000</td>\n      <td>36 months</td>\n      <td>B</td>\n      <td>RENT</td>\n      <td>85000</td>\n      <td>2020-08-09</td>\n      <td>Fully Paid</td>\n      <td>2020-10-11</td>\n      <td>0</td>\n      <td>6</td>\n      <td>1</td>\n    </tr>\n    <tr>\n      <th>1</th>\n      <td>55742</td>\n      <td>7000</td>\n      <td>36 months</td>\n      <td>B</td>\n      <td>RENT</td>\n      <td>65000</td>\n      <td>2020-05-08</td>\n      <td>Fully Paid</td>\n      <td>2020-06-11</td>\n      <td>1</td>\n      <td>4</td>\n      <td>1</td>\n    </tr>\n    <tr>\n      <th>2</th>\n      <td>57245</td>\n      <td>1200</td>\n      <td>36 months</td>\n      <td>C</td>\n      <td>OWN</td>\n      <td>54000</td>\n      <td>2020-03-10</td>\n      <td>Fully Paid</td>\n      <td>2020-03-13</td>\n      <td>1</td>\n      <td>1</td>\n      <td>0</td>\n    </tr>\n    <tr>\n      <th>3</th>\n      <td>57416</td>\n      <td>10800</td>\n      <td>36 months</td>\n      <td>C</td>\n      <td>RENT</td>\n      <td>32000</td>\n      <td>2020-11-09</td>\n      <td>Fully Paid</td>\n      <td>2020-11-12</td>\n      <td>1</td>\n      <td>0</td>\n      <td>0</td>\n    </tr>\n    <tr>\n      <th>4</th>\n      <td>58915</td>\n      <td>7500</td>\n      <td>36 months</td>\n      <td>B</td>\n      <td>RENT</td>\n      <td>85000</td>\n      <td>2020-04-08</td>\n      <td>Fully Paid</td>\n      <td>2020-04-11</td>\n      <td>0</td>\n      <td>2</td>\n      <td>0</td>\n    </tr>\n  </tbody>\n</table>\n</div>",
                        "text/plain": "      id  loan_amount        term grade home_ownership  annual_inc issue_date  \\\n0  54734        25000   36 months     B           RENT       85000 2020-08-09   \n1  55742         7000   36 months     B           RENT       65000 2020-05-08   \n2  57245         1200   36 months     C            OWN       54000 2020-03-10   \n3  57416        10800   36 months     C           RENT       32000 2020-11-09   \n4  58915         7500   36 months     B           RENT       85000 2020-04-08   \n\n  loan_status   due_date  Gender  dayofweek  weekend  \n0  Fully Paid 2020-10-11       0          6        1  \n1  Fully Paid 2020-06-11       1          4        1  \n2  Fully Paid 2020-03-13       1          1        0  \n3  Fully Paid 2020-11-12       1          0        0  \n4  Fully Paid 2020-04-11       0          2        0  "
                    },
                    "execution_count": 82,
                    "metadata": {},
                    "output_type": "execute_result"
                }
            ],
            "source": "test_df = df_sr\ntest_df.head()"
        },
        {
            "cell_type": "code",
            "execution_count": 83,
            "metadata": {},
            "outputs": [],
            "source": "dumm=pd.get_dummies(test_df['grade'])\n#dumm=dumm.drop('Master or Above',axis=1,inplace=True)\ndumm=dumm[['A','B','C', 'D', 'E', 'F']]"
        },
        {
            "cell_type": "code",
            "execution_count": 98,
            "metadata": {},
            "outputs": [
                {
                    "data": {
                        "text/html": "<div>\n<style scoped>\n    .dataframe tbody tr th:only-of-type {\n        vertical-align: middle;\n    }\n\n    .dataframe tbody tr th {\n        vertical-align: top;\n    }\n\n    .dataframe thead th {\n        text-align: right;\n    }\n</style>\n<table border=\"1\" class=\"dataframe\">\n  <thead>\n    <tr style=\"text-align: right;\">\n      <th></th>\n      <th>loan_amount</th>\n      <th>annual_inc</th>\n      <th>weekend</th>\n      <th>A</th>\n      <th>B</th>\n      <th>C</th>\n      <th>D</th>\n      <th>E</th>\n      <th>F</th>\n    </tr>\n  </thead>\n  <tbody>\n    <tr>\n      <th>0</th>\n      <td>25000</td>\n      <td>85000</td>\n      <td>1</td>\n      <td>0</td>\n      <td>1</td>\n      <td>0</td>\n      <td>0</td>\n      <td>0</td>\n      <td>0</td>\n    </tr>\n    <tr>\n      <th>1</th>\n      <td>7000</td>\n      <td>65000</td>\n      <td>1</td>\n      <td>0</td>\n      <td>1</td>\n      <td>0</td>\n      <td>0</td>\n      <td>0</td>\n      <td>0</td>\n    </tr>\n    <tr>\n      <th>2</th>\n      <td>1200</td>\n      <td>54000</td>\n      <td>0</td>\n      <td>0</td>\n      <td>0</td>\n      <td>1</td>\n      <td>0</td>\n      <td>0</td>\n      <td>0</td>\n    </tr>\n    <tr>\n      <th>3</th>\n      <td>10800</td>\n      <td>32000</td>\n      <td>0</td>\n      <td>0</td>\n      <td>0</td>\n      <td>1</td>\n      <td>0</td>\n      <td>0</td>\n      <td>0</td>\n    </tr>\n    <tr>\n      <th>4</th>\n      <td>7500</td>\n      <td>85000</td>\n      <td>0</td>\n      <td>0</td>\n      <td>1</td>\n      <td>0</td>\n      <td>0</td>\n      <td>0</td>\n      <td>0</td>\n    </tr>\n  </tbody>\n</table>\n</div>",
                        "text/plain": "   loan_amount  annual_inc  weekend  A  B  C  D  E  F\n0        25000       85000        1  0  1  0  0  0  0\n1         7000       65000        1  0  1  0  0  0  0\n2         1200       54000        0  0  0  1  0  0  0\n3        10800       32000        0  0  0  1  0  0  0\n4         7500       85000        0  0  1  0  0  0  0"
                    },
                    "execution_count": 98,
                    "metadata": {},
                    "output_type": "execute_result"
                }
            ],
            "source": "test_feature = test_df[['loan_amount','annual_inc','weekend']]\ntest_feature = pd.concat([test_feature,dumm], axis=1)\n#test_feature = pd.concat([test_feature,pd.get_dummies(df_sr['term'])], axis=1)\n#test_feature.drop(['Master or Above'], axis = 1,inplace=True)\ntest_feature.head()"
        },
        {
            "cell_type": "code",
            "execution_count": 99,
            "metadata": {},
            "outputs": [
                {
                    "name": "stderr",
                    "output_type": "stream",
                    "text": "/opt/conda/envs/Python36/lib/python3.6/site-packages/sklearn/preprocessing/data.py:645: DataConversionWarning: Data with input dtype uint8, int64 were all converted to float64 by StandardScaler.\n  return self.partial_fit(X, y)\n/opt/conda/envs/Python36/lib/python3.6/site-packages/ipykernel/__main__.py:2: DataConversionWarning: Data with input dtype uint8, int64 were all converted to float64 by StandardScaler.\n  from ipykernel import kernelapp as app\n"
                }
            ],
            "source": "test_data= test_feature\ntest_data= preprocessing.StandardScaler().fit(test_data).transform(test_data)"
        },
        {
            "cell_type": "code",
            "execution_count": 100,
            "metadata": {},
            "outputs": [
                {
                    "data": {
                        "text/plain": "KNeighborsClassifier(algorithm='auto', leaf_size=30, metric='minkowski',\n           metric_params=None, n_jobs=None, n_neighbors=5, p=2,\n           weights='uniform')"
                    },
                    "execution_count": 100,
                    "metadata": {},
                    "output_type": "execute_result"
                }
            ],
            "source": "y_t=test_df['loan_status']\nknn=KNeighborsClassifier()\nknn.fit(X,y)"
        },
        {
            "cell_type": "code",
            "execution_count": 101,
            "metadata": {},
            "outputs": [],
            "source": "predKNN_test=knn.predict(test_data)"
        },
        {
            "cell_type": "code",
            "execution_count": 102,
            "metadata": {},
            "outputs": [
                {
                    "name": "stdout",
                    "output_type": "stream",
                    "text": "accuracy :  81.69999999999999 %\n"
                }
            ],
            "source": "accuracy=metrics.accuracy_score(predKNN_test,y_t)\nprint(\"accuracy : \",round(accuracy,3)*100,'%')"
        },
        {
            "cell_type": "code",
            "execution_count": 103,
            "metadata": {},
            "outputs": [
                {
                    "name": "stdout",
                    "output_type": "stream",
                    "text": "1 :  0.830945558739255\n2 :  0.7736389684813754\n3 :  0.8252148997134671\n4 :  0.8194842406876791\n5 :  0.8166189111747851\n6 :  0.8252148997134671\n7 :  0.833810888252149\n8 :  0.828080229226361\n9 :  0.8166189111747851\n10 :  0.830945558739255\n11 :  0.8252148997134671\n12 :  0.830945558739255\n13 :  0.828080229226361\n14 :  0.8194842406876791\n15 :  0.8194842406876791\n16 :  0.8166189111747851\n17 :  0.8194842406876791\n18 :  0.8194842406876791\n19 :  0.8194842406876791\n20 :  0.8194842406876791\n21 :  0.8080229226361032\n22 :  0.8108882521489972\n23 :  0.8137535816618912\n24 :  0.8137535816618912\n25 :  0.8166189111747851\n26 :  0.8108882521489972\n27 :  0.8166189111747851\n28 :  0.8166189111747851\n29 :  0.8223495702005731\n30 :  0.8166189111747851\n31 :  0.8223495702005731\n32 :  0.8223495702005731\n33 :  0.8223495702005731\n34 :  0.8223495702005731\n35 :  0.8252148997134671\n36 :  0.8252148997134671\n37 :  0.8252148997134671\n38 :  0.8252148997134671\n39 :  0.8252148997134671\n40 :  0.8252148997134671\n41 :  0.8252148997134671\n42 :  0.8252148997134671\n43 :  0.8252148997134671\n44 :  0.8252148997134671\n45 :  0.8252148997134671\n46 :  0.8252148997134671\n47 :  0.8252148997134671\n48 :  0.8252148997134671\n49 :  0.8252148997134671\n50 :  0.8252148997134671\n51 :  0.8252148997134671\n52 :  0.8252148997134671\n53 :  0.8252148997134671\n54 :  0.8252148997134671\n55 :  0.8252148997134671\n56 :  0.8252148997134671\n57 :  0.8252148997134671\n58 :  0.8252148997134671\n59 :  0.8252148997134671\n60 :  0.8252148997134671\n61 :  0.8252148997134671\n62 :  0.8252148997134671\n63 :  0.8252148997134671\n64 :  0.8252148997134671\n65 :  0.8252148997134671\n66 :  0.8252148997134671\n67 :  0.8252148997134671\n68 :  0.8252148997134671\n69 :  0.8252148997134671\n70 :  0.8252148997134671\n71 :  0.8252148997134671\n72 :  0.8252148997134671\n73 :  0.8252148997134671\n74 :  0.8252148997134671\n75 :  0.8252148997134671\n76 :  0.8252148997134671\n77 :  0.8252148997134671\n78 :  0.8252148997134671\n79 :  0.8252148997134671\n80 :  0.8252148997134671\n81 :  0.8252148997134671\n82 :  0.8252148997134671\n83 :  0.8252148997134671\n84 :  0.8252148997134671\n85 :  0.8252148997134671\n86 :  0.8252148997134671\n87 :  0.8252148997134671\n88 :  0.8252148997134671\n89 :  0.8252148997134671\n90 :  0.8252148997134671\n91 :  0.8252148997134671\n92 :  0.8252148997134671\n93 :  0.8252148997134671\n94 :  0.8252148997134671\n95 :  0.8252148997134671\n96 :  0.8252148997134671\n97 :  0.8252148997134671\n98 :  0.8252148997134671\n99 :  0.8252148997134671\n"
                }
            ],
            "source": "score=[]\nfor k in range(1,100):\n    knn=KNeighborsClassifier(n_neighbors=k,weights='uniform')\n    knn.fit(X,y)\n    predKNN=knn.predict(test_data)\n    accuracy=metrics.accuracy_score(predKNN,y_t)\n    score.append(accuracy*100)\n    print (k,': ',accuracy)"
        },
        {
            "cell_type": "code",
            "execution_count": 104,
            "metadata": {},
            "outputs": [
                {
                    "name": "stdout",
                    "output_type": "stream",
                    "text": "7  :  83.38 %\n"
                }
            ],
            "source": "print(score.index(max(score))+1,' : ',round(max(score),2),'%')"
        },
        {
            "cell_type": "code",
            "execution_count": 105,
            "metadata": {},
            "outputs": [
                {
                    "name": "stdout",
                    "output_type": "stream",
                    "text": "accuracy :  82.19999999999999 %\n"
                }
            ],
            "source": "knn=KNeighborsClassifier(n_neighbors=32)\nknn.fit(X,y)\npredKNN_test=knn.predict(test_data)\naccuracy=metrics.accuracy_score(predKNN_test,y_t)\nprint(\"accuracy : \",round(accuracy,3)*100,'%')"
        },
        {
            "cell_type": "code",
            "execution_count": 106,
            "metadata": {},
            "outputs": [
                {
                    "name": "stdout",
                    "output_type": "stream",
                    "text": "              precision    recall  f1-score   support\n\n Charged Off       0.33      0.02      0.03        61\n  Fully Paid       0.83      0.99      0.90       288\n\n   micro avg       0.82      0.82      0.82       349\n   macro avg       0.58      0.50      0.47       349\nweighted avg       0.74      0.82      0.75       349\n\n\n\nJaccard Similarity Score :  82.23 %\n\n\nF1-SCORE :  [0.03125   0.9022082]\n\n\nTrain Accuracy:  81.66189111747852 %\n"
                }
            ],
            "source": "print(classification_report(y_t,predKNN_test))\nprint('\\n')\nprint('Jaccard Similarity Score : ',round(jaccard_similarity_score(y_t,predKNN_test)*100,2),'%')\nprint('\\n')\nprint('F1-SCORE : ',f1_score(y_t,predKNN_test,average=None))\nprint('\\n')\nprint('Train Accuracy: ',metrics.accuracy_score(y,knn.predict(X))*100,'%')"
        },
        {
            "cell_type": "code",
            "execution_count": 107,
            "metadata": {},
            "outputs": [
                {
                    "name": "stdout",
                    "output_type": "stream",
                    "text": "Best Score: 0.833810888252149\nBest params: {'criterion': 'entropy', 'max_depth': 4, 'max_features': 4, 'random_state': 15}\n"
                },
                {
                    "name": "stderr",
                    "output_type": "stream",
                    "text": "/opt/conda/envs/Python36/lib/python3.6/site-packages/sklearn/model_selection/_search.py:841: DeprecationWarning: The default of the `iid` parameter will change from True to False in version 0.22 and will be removed in 0.24. This will change numeric results when test-set sizes are unequal.\n  DeprecationWarning)\n"
                }
            ],
            "source": "parameter_grid = {'max_depth': [1, 2, 3, 4, 5,6,5,9,15,20],\n                  'max_features': [1, 2, 3, 4,5,6,7,8],\n                 'random_state':[0,15,20,35,50,80,100,150,180,200],\n                 'criterion':['gini','entropy'],\n                 }\n\ngrid_search = GridSearchCV(dtree, param_grid = parameter_grid,\n                          cv =10)\n\ngrid_search.fit(X, y)\n\nprint (\"Best Score: {}\".format(grid_search.best_score_))\nprint (\"Best params: {}\".format(grid_search.best_params_))"
        },
        {
            "cell_type": "code",
            "execution_count": 108,
            "metadata": {},
            "outputs": [],
            "source": "dtree=DecisionTreeClassifier(max_depth=6,criterion='entropy',max_features=4,random_state=20).fit(X,y)\npred_Dtree=dtree.predict(test_data)"
        },
        {
            "cell_type": "code",
            "execution_count": 109,
            "metadata": {},
            "outputs": [
                {
                    "name": "stdout",
                    "output_type": "stream",
                    "text": "              precision    recall  f1-score   support\n\n Charged Off       0.47      0.28      0.35        61\n  Fully Paid       0.86      0.93      0.90       288\n\n   micro avg       0.82      0.82      0.82       349\n   macro avg       0.67      0.61      0.62       349\nweighted avg       0.79      0.82      0.80       349\n\n\n\nJaccard Similarity Score :  81.95 %\n\n\nF1-SCORE :  [0.35051546 0.89517471]\n\n\nTrain Accuracy:  85.38681948424069 %\n"
                }
            ],
            "source": "print(classification_report(y_t,pred_Dtree))\nprint('\\n')\nprint('Jaccard Similarity Score : ',round(jaccard_similarity_score(y_t,pred_Dtree)*100,2),'%')\nprint('\\n')\nprint('F1-SCORE : ',f1_score(y_t,pred_Dtree,average=None))\nprint('\\n')\nprint('Train Accuracy: ',metrics.accuracy_score(y, dtree.predict(X))*100,'%')"
        },
        {
            "cell_type": "markdown",
            "metadata": {},
            "source": "# SVM"
        },
        {
            "cell_type": "code",
            "execution_count": 110,
            "metadata": {},
            "outputs": [],
            "source": "svm=SVC().fit(X,y)\npred_svm=svm.predict(test_data)"
        },
        {
            "cell_type": "code",
            "execution_count": 111,
            "metadata": {},
            "outputs": [
                {
                    "name": "stdout",
                    "output_type": "stream",
                    "text": "              precision    recall  f1-score   support\n\n Charged Off       0.75      0.05      0.09        61\n  Fully Paid       0.83      1.00      0.91       288\n\n   micro avg       0.83      0.83      0.83       349\n   macro avg       0.79      0.52      0.50       349\nweighted avg       0.82      0.83      0.76       349\n\n\n\nJaccard Similarity Score :  83.09 %\n\n\nF1-SCORE :  [0.09230769 0.90679305]\n\n\nTrain Accuracy:  84.2406876790831 %\n"
                }
            ],
            "source": "print(classification_report(y_t,pred_svm))\nprint('\\n')\nprint('Jaccard Similarity Score : ',round(jaccard_similarity_score(y_t,pred_svm)*100,2),'%')\nprint('\\n')\nprint('F1-SCORE : ',f1_score(y_t,pred_svm,average=None))\nprint('\\n')\nprint('Train Accuracy: ',metrics.accuracy_score(y, svm.predict(X))*100,'%')"
        },
        {
            "cell_type": "markdown",
            "metadata": {},
            "source": "# LOGISTIC REGRESSION"
        },
        {
            "cell_type": "code",
            "execution_count": 112,
            "metadata": {},
            "outputs": [
                {
                    "name": "stderr",
                    "output_type": "stream",
                    "text": "/opt/conda/envs/Python36/lib/python3.6/site-packages/sklearn/linear_model/logistic.py:433: FutureWarning: Default solver will be changed to 'lbfgs' in 0.22. Specify a solver to silence this warning.\n  FutureWarning)\n"
                }
            ],
            "source": "lgm=LogisticRegression().fit(X,y)"
        },
        {
            "cell_type": "code",
            "execution_count": 113,
            "metadata": {},
            "outputs": [],
            "source": "pred_lgm=lgm.predict(test_data)"
        },
        {
            "cell_type": "code",
            "execution_count": 114,
            "metadata": {},
            "outputs": [
                {
                    "name": "stdout",
                    "output_type": "stream",
                    "text": "              precision    recall  f1-score   support\n\n Charged Off       0.00      0.00      0.00        61\n  Fully Paid       0.83      1.00      0.90       288\n\n   micro avg       0.83      0.83      0.83       349\n   macro avg       0.41      0.50      0.45       349\nweighted avg       0.68      0.83      0.75       349\n\n\n\nJaccard Similarity Score :  82.52 %\n\n\nF1-SCORE :  [0.         0.90423862]\n\n\nTrain Accuracy:  82.52148997134671 %\n"
                },
                {
                    "name": "stderr",
                    "output_type": "stream",
                    "text": "/opt/conda/envs/Python36/lib/python3.6/site-packages/sklearn/metrics/classification.py:1143: UndefinedMetricWarning: Precision and F-score are ill-defined and being set to 0.0 in labels with no predicted samples.\n  'precision', 'predicted', average, warn_for)\n/opt/conda/envs/Python36/lib/python3.6/site-packages/sklearn/metrics/classification.py:1143: UndefinedMetricWarning: Precision and F-score are ill-defined and being set to 0.0 in labels with no predicted samples.\n  'precision', 'predicted', average, warn_for)\n/opt/conda/envs/Python36/lib/python3.6/site-packages/sklearn/metrics/classification.py:1143: UndefinedMetricWarning: Precision and F-score are ill-defined and being set to 0.0 in labels with no predicted samples.\n  'precision', 'predicted', average, warn_for)\n/opt/conda/envs/Python36/lib/python3.6/site-packages/sklearn/metrics/classification.py:1143: UndefinedMetricWarning: F-score is ill-defined and being set to 0.0 in labels with no predicted samples.\n  'precision', 'predicted', average, warn_for)\n"
                }
            ],
            "source": "print(classification_report(y_t,pred_lgm))\nprint('\\n')\nprint('Jaccard Similarity Score : ',round(jaccard_similarity_score(y_t,pred_lgm)*100,2),'%')\nprint('\\n')\nprint('F1-SCORE : ',f1_score(y_t,pred_lgm,average=None))\nprint('\\n')\nprint('Train Accuracy: ',metrics.accuracy_score(y, lgm.predict(X))*100,'%')"
        },
        {
            "cell_type": "code",
            "execution_count": 115,
            "metadata": {},
            "outputs": [
                {
                    "name": "stderr",
                    "output_type": "stream",
                    "text": "/opt/conda/envs/Python36/lib/python3.6/site-packages/sklearn/metrics/classification.py:1143: UndefinedMetricWarning: F-score is ill-defined and being set to 0.0 in labels with no predicted samples.\n  'precision', 'predicted', average, warn_for)\n"
                }
            ],
            "source": "\nAlgoritm=['KNN','Decision Tree','SVM','LogisticRegression']\nj_knn=round(jaccard_similarity_score(y_t,predKNN_test)*100,2)\nj_dtree=round(jaccard_similarity_score(y_t,pred_Dtree)*100,2)\nj_svm=round(jaccard_similarity_score(y_t,pred_svm)*100,2)\nj_lgm=round(jaccard_similarity_score(y_t,pred_lgm)*100,2)\nJaccard=[j_knn,j_dtree,j_svm,j_lgm]\n\nf1_knn=f1_score(y_t,predKNN_test,average=None)\nf1_dtree=f1_score(y_t,pred_Dtree,average=None)\nf1_svm=f1_score(y_t,pred_svm,average=None)\nf1_lgm=f1_score(y_t,pred_lgm,average=None)\nF1_score=[f1_knn,f1_dtree,f1_svm,f1_lgm]"
        },
        {
            "cell_type": "code",
            "execution_count": 116,
            "metadata": {},
            "outputs": [],
            "source": "table = pd.DataFrame({\n    \"Algorithm\": Algoritm,\n    \"Jaccatd\": Jaccard,\n    \"F1-Score\": F1_score,\n    \"LogLoss\":[np.NAN,np.NAN,np.NAN,np.NAN]})"
        },
        {
            "cell_type": "code",
            "execution_count": 117,
            "metadata": {},
            "outputs": [
                {
                    "data": {
                        "text/html": "<div>\n<style scoped>\n    .dataframe tbody tr th:only-of-type {\n        vertical-align: middle;\n    }\n\n    .dataframe tbody tr th {\n        vertical-align: top;\n    }\n\n    .dataframe thead th {\n        text-align: right;\n    }\n</style>\n<table border=\"1\" class=\"dataframe\">\n  <thead>\n    <tr style=\"text-align: right;\">\n      <th></th>\n      <th>Algorithm</th>\n      <th>Jaccatd</th>\n      <th>F1-Score</th>\n      <th>LogLoss</th>\n    </tr>\n  </thead>\n  <tbody>\n    <tr>\n      <th>0</th>\n      <td>KNN</td>\n      <td>82.23</td>\n      <td>[0.03125, 0.9022082018927445]</td>\n      <td>NaN</td>\n    </tr>\n    <tr>\n      <th>1</th>\n      <td>Decision Tree</td>\n      <td>81.95</td>\n      <td>[0.35051546391752575, 0.8951747088186356]</td>\n      <td>NaN</td>\n    </tr>\n    <tr>\n      <th>2</th>\n      <td>SVM</td>\n      <td>83.09</td>\n      <td>[0.0923076923076923, 0.9067930489731437]</td>\n      <td>NaN</td>\n    </tr>\n    <tr>\n      <th>3</th>\n      <td>LogisticRegression</td>\n      <td>82.52</td>\n      <td>[0.0, 0.9042386185243327]</td>\n      <td>NaN</td>\n    </tr>\n  </tbody>\n</table>\n</div>",
                        "text/plain": "            Algorithm  Jaccatd                                   F1-Score  \\\n0                 KNN    82.23              [0.03125, 0.9022082018927445]   \n1       Decision Tree    81.95  [0.35051546391752575, 0.8951747088186356]   \n2                 SVM    83.09   [0.0923076923076923, 0.9067930489731437]   \n3  LogisticRegression    82.52                  [0.0, 0.9042386185243327]   \n\n   LogLoss  \n0      NaN  \n1      NaN  \n2      NaN  \n3      NaN  "
                    },
                    "execution_count": 117,
                    "metadata": {},
                    "output_type": "execute_result"
                }
            ],
            "source": "\ntable"
        },
        {
            "cell_type": "code",
            "execution_count": null,
            "metadata": {},
            "outputs": [],
            "source": ""
        }
    ],
    "metadata": {
        "kernelspec": {
            "display_name": "Python 3.6",
            "language": "python",
            "name": "python3"
        },
        "language_info": {
            "codemirror_mode": {
                "name": "ipython",
                "version": 3
            },
            "file_extension": ".py",
            "mimetype": "text/x-python",
            "name": "python",
            "nbconvert_exporter": "python",
            "pygments_lexer": "ipython3",
            "version": "3.6.9"
        }
    },
    "nbformat": 4,
    "nbformat_minor": 1
}